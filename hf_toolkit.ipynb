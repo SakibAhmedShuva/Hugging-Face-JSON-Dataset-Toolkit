{
 "cells": [
  {
   "cell_type": "markdown",
   "metadata": {},
   "source": [
    "# Import required libraries"
   ]
  },
  {
   "cell_type": "code",
   "execution_count": 5,
   "metadata": {},
   "outputs": [],
   "source": [
    "import json\n",
    "import os\n",
    "from collections import Counter"
   ]
  },
  {
   "cell_type": "code",
   "execution_count": 1,
   "metadata": {},
   "outputs": [],
   "source": [
    "def process_dataset(input_file, output_file):\n",
    "    # Read the input file\n",
    "    with open(input_file, 'r', encoding='utf-8') as f:\n",
    "        lines = f.readlines()\n",
    "\n",
    "    total_sentences = len(lines)\n",
    "    processed_lines = []\n",
    "    new_id = 0\n",
    "    \n",
    "    for line in lines:\n",
    "        data = json.loads(line)\n",
    "        # Check if the sentence has any annotation other than 0\n",
    "        if any(tag != 0 for tag in data['ner_tags']):\n",
    "            data['id'] = str(new_id)\n",
    "            # Ensure the JSON structure is identical to the original\n",
    "            processed_lines.append(json.dumps(data, ensure_ascii=False, separators=(',', ':')))\n",
    "            new_id += 1\n",
    "\n",
    "    sentences_deleted = total_sentences - len(processed_lines)\n",
    "    remaining_sentences = len(processed_lines)\n",
    "\n",
    "    # Write the processed data to the output file\n",
    "    with open(output_file, 'w', encoding='utf-8') as f:\n",
    "        for line in processed_lines:\n",
    "            f.write(line + '\\n')\n",
    "\n",
    "    print(f\"Total sentences found: {total_sentences}\")\n",
    "    print(f\"Total sentences with no annotation deleted: {sentences_deleted}\")\n",
    "    print(f\"Final remaining sentences: {remaining_sentences}\")\n",
    "    print(f\"Processing complete. Output written to {output_file}\")"
   ]
  },
  {
   "cell_type": "markdown",
   "metadata": {},
   "source": [
    "## Single File"
   ]
  },
  {
   "cell_type": "code",
   "execution_count": 3,
   "metadata": {},
   "outputs": [
    {
     "name": "stdout",
     "output_type": "stream",
     "text": [
      "Total sentences found: 551\n",
      "Total sentences with no annotation deleted: 0\n",
      "Final remaining sentences: 551\n",
      "Processing complete. Output written to C:\\Users\\Sakib Ahmed\\Desktop\\samples\\dev - No Per.json\n"
     ]
    }
   ],
   "source": [
    "# Usage\n",
    "input_file = r\"C:\\Users\\Sakib Ahmed\\Desktop\\samples\\dev - No Per.json\"\n",
    "output_file = input_file\n",
    "process_dataset(input_file, output_file)"
   ]
  },
  {
   "cell_type": "markdown",
   "metadata": {},
   "source": [
    "## Multiple Files"
   ]
  },
  {
   "cell_type": "code",
   "execution_count": 4,
   "metadata": {},
   "outputs": [
    {
     "name": "stdout",
     "output_type": "stream",
     "text": [
      "Total sentences found: 551\n",
      "Total sentences with no annotation deleted: 0\n",
      "Final remaining sentences: 551\n",
      "Processing complete. Output written to C:\\Users\\Sakib Ahmed\\Desktop\\samples\\dev - No Per.json\n",
      "Total sentences found: 400\n",
      "Total sentences with no annotation deleted: 332\n",
      "Final remaining sentences: 68\n",
      "Processing complete. Output written to C:\\Users\\Sakib Ahmed\\Desktop\\samples\\dev - Only Per.json\n",
      "Total sentences found: 3960\n",
      "Total sentences with no annotation deleted: 1519\n",
      "Final remaining sentences: 2441\n",
      "Processing complete. Output written to C:\\Users\\Sakib Ahmed\\Desktop\\samples\\train - No Per.json\n",
      "Total sentences found: 1865\n",
      "Total sentences with no annotation deleted: 1461\n",
      "Final remaining sentences: 404\n",
      "Processing complete. Output written to C:\\Users\\Sakib Ahmed\\Desktop\\samples\\train - Only Per.json\n",
      "Total sentences found: 850\n",
      "Total sentences with no annotation deleted: 306\n",
      "Final remaining sentences: 544\n",
      "Processing complete. Output written to C:\\Users\\Sakib Ahmed\\Desktop\\samples\\test - No Per.json\n",
      "Total sentences found: 401\n",
      "Total sentences with no annotation deleted: 332\n",
      "Final remaining sentences: 69\n",
      "Processing complete. Output written to C:\\Users\\Sakib Ahmed\\Desktop\\samples\\test - Only Per.json\n"
     ]
    }
   ],
   "source": [
    "# Define the list of input files\n",
    "input_files = [\n",
    "    r\"C:\\Users\\Sakib Ahmed\\Desktop\\samples\\dev - No Per.json\",\n",
    "    r\"C:\\Users\\Sakib Ahmed\\Desktop\\samples\\dev - Only Per.json\",\n",
    "    r\"C:\\Users\\Sakib Ahmed\\Desktop\\samples\\train - No Per.json\",\n",
    "    r\"C:\\Users\\Sakib Ahmed\\Desktop\\samples\\train - Only Per.json\",\n",
    "    r\"C:\\Users\\Sakib Ahmed\\Desktop\\samples\\test - No Per.json\",\n",
    "    r\"C:\\Users\\Sakib Ahmed\\Desktop\\samples\\test - Only Per.json\",\n",
    "]\n",
    "\n",
    "# Iterate over each file and process it\n",
    "for input_file in input_files:\n",
    "    output_file = input_file  # Output file is the same as input file\n",
    "    process_dataset(input_file, output_file)"
   ]
  },
  {
   "cell_type": "code",
   "execution_count": 6,
   "metadata": {},
   "outputs": [],
   "source": [
    "def count_unique_labels(file_path):\n",
    "    all_labels = []\n",
    "    \n",
    "    with open(file_path, 'r', encoding='utf-8') as file:\n",
    "        for line in file:\n",
    "            data = json.loads(line)\n",
    "            all_labels.extend(data['ner_tags'])\n",
    "    \n",
    "    label_counts = Counter(all_labels)\n",
    "    \n",
    "    print(\"Unique labels and their counts:\")\n",
    "    for label, count in sorted(label_counts.items()):\n",
    "        print(f\"Label {label}: {count} occurrences\")\n",
    "    \n",
    "    print(f\"\\nTotal number of unique labels: {len(label_counts)}\")"
   ]
  },
  {
   "cell_type": "code",
   "execution_count": 8,
   "metadata": {},
   "outputs": [
    {
     "name": "stdout",
     "output_type": "stream",
     "text": [
      "Unique labels and their counts:\n",
      "Label 0: 15653 occurrences\n",
      "Label 1: 668 occurrences\n",
      "Label 2: 462 occurrences\n",
      "Label 3: 495 occurrences\n",
      "Label 4: 162 occurrences\n",
      "Label 5: 195 occurrences\n",
      "Label 6: 344 occurrences\n",
      "\n",
      "Total number of unique labels: 7\n"
     ]
    }
   ],
   "source": [
    "# Usage\n",
    "file_path = r\"C:\\Users\\Sakib Ahmed\\Desktop\\samples\\dev - No Per.json\"  # Replace with your actual file path\n",
    "count_unique_labels(file_path)"
   ]
  },
  {
   "cell_type": "code",
   "execution_count": 9,
   "metadata": {},
   "outputs": [
    {
     "name": "stdout",
     "output_type": "stream",
     "text": [
      "Unique labels and their counts:\n",
      "Label 0: 15653 occurrences\n",
      "Label 1: 668 occurrences\n",
      "Label 2: 462 occurrences\n",
      "Label 3: 495 occurrences\n",
      "Label 4: 162 occurrences\n",
      "Label 5: 195 occurrences\n",
      "Label 6: 344 occurrences\n",
      "\n",
      "Total number of unique labels: 7\n",
      "Unique labels and their counts:\n",
      "Label 0: 2271 occurrences\n",
      "Label 7: 110 occurrences\n",
      "Label 8: 57 occurrences\n",
      "\n",
      "Total number of unique labels: 3\n",
      "Unique labels and their counts:\n",
      "Label 0: 69979 occurrences\n",
      "Label 1: 3216 occurrences\n",
      "Label 2: 2098 occurrences\n",
      "Label 3: 2299 occurrences\n",
      "Label 4: 878 occurrences\n",
      "Label 5: 835 occurrences\n",
      "Label 6: 1192 occurrences\n",
      "\n",
      "Total number of unique labels: 7\n",
      "Unique labels and their counts:\n",
      "Label 0: 14408 occurrences\n",
      "Label 7: 676 occurrences\n",
      "Label 8: 465 occurrences\n",
      "\n",
      "Total number of unique labels: 3\n",
      "Unique labels and their counts:\n",
      "Label 0: 15554 occurrences\n",
      "Label 1: 666 occurrences\n",
      "Label 2: 370 occurrences\n",
      "Label 3: 537 occurrences\n",
      "Label 4: 191 occurrences\n",
      "Label 5: 155 occurrences\n",
      "Label 6: 215 occurrences\n",
      "\n",
      "Total number of unique labels: 7\n",
      "Unique labels and their counts:\n",
      "Label 0: 2189 occurrences\n",
      "Label 7: 124 occurrences\n",
      "Label 8: 82 occurrences\n",
      "\n",
      "Total number of unique labels: 3\n"
     ]
    }
   ],
   "source": [
    "# Define the list of input files\n",
    "file_paths = [\n",
    "    r\"C:\\Users\\Sakib Ahmed\\Desktop\\samples\\dev - No Per.json\",\n",
    "    r\"C:\\Users\\Sakib Ahmed\\Desktop\\samples\\dev - Only Per.json\",\n",
    "    r\"C:\\Users\\Sakib Ahmed\\Desktop\\samples\\train - No Per.json\",\n",
    "    r\"C:\\Users\\Sakib Ahmed\\Desktop\\samples\\train - Only Per.json\",\n",
    "    r\"C:\\Users\\Sakib Ahmed\\Desktop\\samples\\test - No Per.json\",\n",
    "    r\"C:\\Users\\Sakib Ahmed\\Desktop\\samples\\test - Only Per.json\",\n",
    "]\n",
    "\n",
    "# Iterate over each file and process it\n",
    "for file_path in file_paths:\n",
    "    count_unique_labels(file_path)"
   ]
  },
  {
   "cell_type": "code",
   "execution_count": null,
   "metadata": {},
   "outputs": [],
   "source": []
  }
 ],
 "metadata": {
  "kernelspec": {
   "display_name": "Python 3",
   "language": "python",
   "name": "python3"
  },
  "language_info": {
   "codemirror_mode": {
    "name": "ipython",
    "version": 3
   },
   "file_extension": ".py",
   "mimetype": "text/x-python",
   "name": "python",
   "nbconvert_exporter": "python",
   "pygments_lexer": "ipython3",
   "version": "3.12.7"
  }
 },
 "nbformat": 4,
 "nbformat_minor": 2
}
